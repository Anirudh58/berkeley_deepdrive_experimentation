{
 "cells": [
  {
   "cell_type": "markdown",
   "id": "a1f7bf1a-ac9c-4ecb-9960-6123fddb3ec1",
   "metadata": {},
   "source": [
    "# Experimentation with querying over test videos"
   ]
  },
  {
   "cell_type": "code",
   "execution_count": 5,
   "id": "507c943a-ced0-46b0-ba00-927c00eaf40a",
   "metadata": {},
   "outputs": [],
   "source": [
    "# basic\n",
    "import math\n",
    "import os\n",
    "import pickle\n",
    "from PIL import Image\n",
    "import random\n",
    "import time\n",
    "\n",
    "# opencv\n",
    "import cv2\n",
    "\n",
    "# torch\n",
    "import torch\n",
    "import torchvision\n",
    "from torchvision.models.detection.faster_rcnn import FastRCNNPredictor"
   ]
  },
  {
   "cell_type": "markdown",
   "id": "d4e5ba6c-54da-491e-8af3-5c1b26733d65",
   "metadata": {},
   "source": [
    "## Config vars"
   ]
  },
  {
   "cell_type": "code",
   "execution_count": 15,
   "id": "b328f99f-3523-4bd0-9e26-47903fbbb441",
   "metadata": {
    "tags": []
   },
   "outputs": [],
   "source": [
    "root = '.'\n",
    "model_store_path = os.path.join(root, 'models')\n",
    "model_file = os.path.join(model_store_path, 'bdd_fasterrcnn_mobilenet_v3_large_fpn_1622545030.pt')\n",
    "backbone_model = 'fasterrcnn_mobilenet_v3_large_fpn'\n",
    "target_labels = ['car', 'traffic sign', 'pedestrian']\n",
    "num_classes = len(target_labels) + 1\n",
    "\n",
    "# path to a sample video\n",
    "video_file_name = 'cabc30fc-e7726578.mov'\n",
    "test_video_path = os.path.join(root, 'bdd100k_videos_test_00', 'bdd100k', 'videos', 'test', video_file_name)\n",
    "\n",
    "#print(os.listdir(test_video_path))"
   ]
  },
  {
   "cell_type": "markdown",
   "id": "eb9333fa-44c8-44b1-9f6c-87ea400ba733",
   "metadata": {},
   "source": [
    "## Utility function"
   ]
  },
  {
   "cell_type": "code",
   "execution_count": 3,
   "id": "97776963-43ab-4139-9f53-7bb0a4414dea",
   "metadata": {},
   "outputs": [],
   "source": [
    "def get_fastrcnn_model(num_classes):\n",
    "\n",
    "    # load the pretrained model\n",
    "    if backbone_model == 'fasterrcnn_resnet50_fpn':\n",
    "        model = torchvision.models.detection.fasterrcnn_resnet50_fpn(pretrained=True)\n",
    "    elif backbone_model == 'fasterrcnn_mobilenet_v3_large_fpn':\n",
    "        model = torchvision.models.detection.fasterrcnn_mobilenet_v3_large_fpn(pretrained=True)\n",
    "\n",
    "    # number of input features for the classifier\n",
    "    in_features = model.roi_heads.box_predictor.cls_score.in_features\n",
    "\n",
    "    # replace with pretrained head with a new one\n",
    "    model.roi_heads.box_predictor = FastRCNNPredictor(in_features, num_classes)\n",
    "    \n",
    "    return model"
   ]
  },
  {
   "cell_type": "code",
   "execution_count": 32,
   "id": "2ded733a-49b8-4751-b0d2-7072ee9baad6",
   "metadata": {},
   "outputs": [],
   "source": [
    "def play_video(video_path):\n",
    "    # Create a VideoCapture object and read from input file\n",
    "\n",
    "    cap = cv2.VideoCapture(video_path)\n",
    "    \n",
    "    # get fps\n",
    "    fps = round(cap.get(cv2.CAP_PROP_FPS))\n",
    "    \n",
    "    # Check if camera opened successfully\n",
    "    if (cap.isOpened()== False): \n",
    "        print(\"Error opening video  file\")\n",
    "    \n",
    "    frame_count = 0\n",
    "    # Read until video is completed\n",
    "    while(cap.isOpened()):\n",
    "\n",
    "        # Capture frame-by-frame\n",
    "        ret, frame = cap.read()\n",
    "        if ret == True:\n",
    "\n",
    "            # Display the resulting frame\n",
    "            cv2.imshow('Frame', frame)\n",
    "            frame_count += 1\n",
    "\n",
    "            # Press Q on keyboard to  exit\n",
    "            if cv2.waitKey(25) & 0xFF == ord('q'):\n",
    "                break\n",
    "\n",
    "        # Break the loop\n",
    "        else: \n",
    "            break\n",
    "    \n",
    "    # When everything done, release \n",
    "    # the video capture object\n",
    "    cap.release()\n",
    "\n",
    "    # Closes all the frames\n",
    "    cv2.destroyAllWindows()\n",
    "    \n",
    "    print('Video info:')\n",
    "    print(f'fps: {fps}')\n",
    "    print(f'duration: {frame_count//fps} seconds')\n",
    "    "
   ]
  },
  {
   "cell_type": "code",
   "execution_count": 33,
   "id": "c98c0749-6d3e-43f9-a99f-505421c1c4ac",
   "metadata": {},
   "outputs": [
    {
     "name": "stdout",
     "output_type": "stream",
     "text": [
      "Video info:\n",
      "fps: 30\n",
      "duration: 22\n"
     ]
    }
   ],
   "source": [
    "play_video(test_video_path)"
   ]
  },
  {
   "cell_type": "code",
   "execution_count": null,
   "id": "abb82c0d-5654-418b-a9f8-c50fe3208475",
   "metadata": {
    "tags": []
   },
   "outputs": [],
   "source": [
    "# get the model definition\n",
    "model = get_fastrcnn_model(num_classes)\n",
    "model.load_state_dict(torch.load(model_file))\n",
    "model.eval()"
   ]
  }
 ],
 "metadata": {
  "kernelspec": {
   "display_name": "torch",
   "language": "python",
   "name": "torch"
  },
  "language_info": {
   "codemirror_mode": {
    "name": "ipython",
    "version": 3
   },
   "file_extension": ".py",
   "mimetype": "text/x-python",
   "name": "python",
   "nbconvert_exporter": "python",
   "pygments_lexer": "ipython3",
   "version": "3.8.0"
  }
 },
 "nbformat": 4,
 "nbformat_minor": 5
}
