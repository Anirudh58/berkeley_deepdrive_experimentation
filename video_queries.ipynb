{
 "cells": [
  {
   "cell_type": "code",
   "execution_count": null,
   "id": "507c943a-ced0-46b0-ba00-927c00eaf40a",
   "metadata": {},
   "outputs": [],
   "source": [
    "# basic\n",
    "import math\n",
    "import os\n",
    "import pickle\n",
    "from PIL import Image\n",
    "import random\n",
    "import time\n",
    "\n",
    "# torch\n",
    "import torch\n",
    "import torchvision\n",
    "from torchvision.models.detection.faster_rcnn import FastRCNNPredictor"
   ]
  },
  {
   "cell_type": "code",
   "execution_count": null,
   "id": "b328f99f-3523-4bd0-9e26-47903fbbb441",
   "metadata": {},
   "outputs": [],
   "source": [
    "root = '.'\n",
    "model_store_path = os.path.join(root, 'models')\n",
    "model_file = os.path.join(model_store_path, 'bdd_fasterrcnn_mobilenet_v3_large_fpn_1622545030.pt')\n",
    "backbone_model = 'fasterrcnn_mobilenet_v3_large_fpn'\n",
    "target_labels = ['car', 'traffic sign', 'pedestrian']\n",
    "num_classes = len(target_labels) + 1"
   ]
  },
  {
   "cell_type": "code",
   "execution_count": null,
   "id": "97776963-43ab-4139-9f53-7bb0a4414dea",
   "metadata": {},
   "outputs": [],
   "source": [
    "def get_fastrcnn_model(num_classes):\n",
    "\n",
    "    # load the pretrained model\n",
    "    if backbone_model == 'fasterrcnn_resnet50_fpn':\n",
    "        model = torchvision.models.detection.fasterrcnn_resnet50_fpn(pretrained=True)\n",
    "    elif backbone_model == 'fasterrcnn_mobilenet_v3_large_fpn':\n",
    "        model = torchvision.models.detection.fasterrcnn_mobilenet_v3_large_fpn(pretrained=True)\n",
    "\n",
    "    # number of input features for the classifier\n",
    "    in_features = model.roi_heads.box_predictor.cls_score.in_features\n",
    "\n",
    "    # replace with pretrained head with a new one\n",
    "    model.roi_heads.box_predictor = FastRCNNPredictor(in_features, num_classes)\n",
    "    \n",
    "    return model"
   ]
  },
  {
   "cell_type": "code",
   "execution_count": null,
   "id": "abb82c0d-5654-418b-a9f8-c50fe3208475",
   "metadata": {
    "tags": []
   },
   "outputs": [],
   "source": [
    "model = get_fastrcnn_model(num_classes)\n",
    "model.load_state_dict(torch.load(model_file))\n",
    "model.eval()"
   ]
  },
  {
   "cell_type": "code",
   "execution_count": null,
   "id": "4493968d-ce10-47c1-b14f-1d4643149a88",
   "metadata": {},
   "outputs": [],
   "source": []
  }
 ],
 "metadata": {
  "kernelspec": {
   "display_name": "torch",
   "language": "python",
   "name": "torch"
  },
  "language_info": {
   "codemirror_mode": {
    "name": "ipython",
    "version": 3
   },
   "file_extension": ".py",
   "mimetype": "text/x-python",
   "name": "python",
   "nbconvert_exporter": "python",
   "pygments_lexer": "ipython3",
   "version": "3.8.0"
  }
 },
 "nbformat": 4,
 "nbformat_minor": 5
}
