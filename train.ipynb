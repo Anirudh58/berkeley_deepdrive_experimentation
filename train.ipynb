{
 "cells": [
  {
   "cell_type": "code",
   "execution_count": null,
   "metadata": {},
   "outputs": [],
   "source": [
    "# basic\n",
    "import math\n",
    "import os\n",
    "import pickle\n",
    "from PIL import Image\n",
    "import random\n",
    "\n",
    "# data\n",
    "import numpy as np\n",
    "import pandas as pd\n",
    "\n",
    "# plot\n",
    "import matplotlib.pyplot as plt\n",
    "import matplotlib.patches as patches\n",
    "\n",
    "# torch\n",
    "import torch\n",
    "import torchvision\n",
    "from torchvision import transforms\n",
    "from torchvision.models.detection.faster_rcnn import FastRCNNPredictor\n",
    "\n",
    "# vision reference. taken from https://github.com/pytorch/vision/tree/master/references/detection\n",
    "from engine import train_one_epoch, evaluate\n",
    "import utils\n",
    "\n",
    "from dataset import BDDDataset"
   ]
  },
  {
   "cell_type": "markdown",
   "metadata": {},
   "source": [
    "## Check GPU"
   ]
  },
  {
   "cell_type": "code",
   "execution_count": null,
   "metadata": {},
   "outputs": [],
   "source": [
    "device = torch.device('cuda:0' if torch.cuda.is_available() else 'cpu')\n",
    "print(device)"
   ]
  },
  {
   "cell_type": "markdown",
   "metadata": {},
   "source": [
    "## Config vars"
   ]
  },
  {
   "cell_type": "code",
   "execution_count": null,
   "metadata": {},
   "outputs": [],
   "source": [
    "root = '.'\n",
    "\n",
    "dataset_path = os.path.join(root, 'dataset')\n",
    "train_dataset_path = os.path.join(dataset_path, 'train')\n",
    "val_dataset_path = os.path.join(dataset_path, 'val')\n",
    "\n",
    "val_split = 0.2\n",
    "\n",
    "target_labels = ['car', 'traffic sign', 'pedestrian']\n",
    "\n",
    "# create a map for label->id\n",
    "label_id_map = {}\n",
    "id_label_map = {}\n",
    "id_color_map = {}\n",
    "for i in range(len(target_labels)):\n",
    "    label_id_map[target_labels[i]] = i\n",
    "    id_label_map[i] = target_labels[i]\n",
    "    color = (random.random(), random.random(), random.random())\n",
    "    id_color_map[i] = color"
   ]
  },
  {
   "cell_type": "markdown",
   "metadata": {},
   "source": [
    "## Utility functions"
   ]
  },
  {
   "cell_type": "code",
   "execution_count": null,
   "metadata": {},
   "outputs": [],
   "source": [
    "def plot_image_with_boxes(img, target):\n",
    "\n",
    "    # Create figure and axes\n",
    "    fig, ax = plt.subplots(1)\n",
    "\n",
    "    # Display the image\n",
    "    ax.imshow(img.permute(1, 2, 0))\n",
    "\n",
    "    # draw each box\n",
    "    for i in range(len(target['boxes'])):\n",
    "        bottom_left = (target['boxes'][i][0], target['boxes'][i][1])\n",
    "        width = target['boxes'][i][2] - target['boxes'][i][0]\n",
    "        height = target['boxes'][i][3] - target['boxes'][i][1]\n",
    "        \n",
    "        label = int(target['labels'][i])\n",
    "\n",
    "        # Create a Rectangle patch\n",
    "        rect = patches.Rectangle(bottom_left, width, height, linewidth=1,\n",
    "                                 edgecolor=id_color_map[label], facecolor=\"none\")\n",
    "\n",
    "        # Add the patch to the Axes\n",
    "        ax.add_patch(rect)\n",
    "    plt.show()"
   ]
  },
  {
   "cell_type": "code",
   "execution_count": null,
   "metadata": {},
   "outputs": [],
   "source": [
    "def get_transform(train):\n",
    "    \n",
    "    transform = transforms.Compose([\n",
    "        transforms.ToTensor(),\n",
    "    ])\n",
    "    \n",
    "    return transform"
   ]
  },
  {
   "cell_type": "code",
   "execution_count": null,
   "metadata": {},
   "outputs": [],
   "source": [
    "def get_fastrcnn_model(num_classes):\n",
    "\n",
    "    # load the pretrained model\n",
    "    model = torchvision.models.detection.fasterrcnn_resnet50_fpn(pretrained=True)\n",
    "\n",
    "    # number of input features for the classifier\n",
    "    in_features = model.roi_heads.box_predictor.cls_score.in_features\n",
    "\n",
    "    # replace with pretrained head with a new one\n",
    "    model.roi_heads.box_predictor = FastRCNNPredictor(in_features, num_classes)\n",
    "    \n",
    "    return model"
   ]
  },
  {
   "cell_type": "markdown",
   "metadata": {},
   "source": [
    "## Defining our custom dataset"
   ]
  },
  {
   "cell_type": "code",
   "execution_count": null,
   "metadata": {},
   "outputs": [],
   "source": [
    "# class BDDDataset(object):\n",
    "    \n",
    "#     def __init__(self, root, transforms=None):\n",
    "#         self.root = root\n",
    "#         self.transforms = transforms\n",
    "        \n",
    "#         # load the train set calculated from prev notebook\n",
    "#         with open('train_set.pkl', 'rb') as f:\n",
    "#             self.train_set = pickle.load(f)\n",
    "            \n",
    "#         self.imgs = list(os.listdir(train_dataset_path))\n",
    "        \n",
    "#     def __len__(self):\n",
    "#         return len(self.imgs)\n",
    "    \n",
    "#     def __getitem__(self, idx):\n",
    "        \n",
    "#         # load image\n",
    "#         img_name = self.imgs[idx]\n",
    "#         img_path = os.path.join(train_dataset_path, img_name)\n",
    "#         img = Image.open(img_path).convert('RGB')\n",
    "        \n",
    "#         num_instances = len(self.train_set[img_name]['labels'])\n",
    "#         labels = []\n",
    "#         boxes = []\n",
    "        \n",
    "#         for instance in self.train_set[img_name]['labels']:\n",
    "#             # making sure we dont have visually unclear instances\n",
    "#             if instance['category'] in label_id_map and not instance['attributes']['occluded'] and not instance['attributes']['truncated']:\n",
    "#                 labels.append(label_id_map[instance['category']])\n",
    "#                 boxes.append([instance['box2d']['x1'], instance['box2d']['y1'], instance['box2d']['x2'], instance['box2d']['y2']])\n",
    "        \n",
    "#         # convert all variables to tensors\n",
    "#         boxes = torch.as_tensor(boxes, dtype=torch.float32)\n",
    "#         labels = torch.as_tensor(labels, dtype=torch.int64)\n",
    "#         image_id = torch.tensor([idx])\n",
    "        \n",
    "#         area = (boxes[:, 3] - boxes[:, 1]) * (boxes[:, 2] - boxes[:, 0])\n",
    "        \n",
    "#         # attach all info into a dict target\n",
    "#         target = {}\n",
    "#         target['boxes'] = boxes\n",
    "#         target['labels'] = labels\n",
    "#         target['image_id'] = image_id\n",
    "#         target['area'] = area\n",
    "                \n",
    "#         if self.transforms is not None:\n",
    "#             img = self.transforms(img)\n",
    "        \n",
    "#         return img, target"
   ]
  },
  {
   "cell_type": "markdown",
   "metadata": {},
   "source": [
    "## Testing the dataset"
   ]
  },
  {
   "cell_type": "code",
   "execution_count": null,
   "metadata": {},
   "outputs": [],
   "source": [
    "random_idx = 142\n",
    "dataset = BDDDataset(root, transforms=get_transform(train=True))\n",
    "img, target = dataset[random_idx]\n",
    "print(f'img shape: {img.shape}')\n",
    "print(f'target: {target}')\n",
    "print(f'dataset length: {len(dataset)}')\n",
    "plot_image_with_boxes(img, target)"
   ]
  },
  {
   "cell_type": "markdown",
   "metadata": {},
   "source": [
    "## Instantiate the train and val dataloaders"
   ]
  },
  {
   "cell_type": "code",
   "execution_count": null,
   "metadata": {},
   "outputs": [],
   "source": [
    "# later see if you can have train-specific transforms\n",
    "train_dataset = BDDDataset(root, transforms=get_transform(train=True))\n",
    "val_dataset = BDDDataset(root, transforms=get_transform(train=True))\n",
    "\n",
    "# split dataset in train and val set\n",
    "indices = torch.randperm(len(train_dataset)).tolist()\n",
    "val_split_index = int(val_split * len(train_dataset))\n",
    "train_dataset = torch.utils.data.Subset(train_dataset, indices[:-1 * val_split_index])\n",
    "val_dataset = torch.utils.data.Subset(val_dataset, indices[-1 * val_split_index:])\n",
    "\n",
    "# define the dataloaders\n",
    "dataloader_train = torch.utils.data.DataLoader(\n",
    "    train_dataset,\n",
    "    batch_size=2,\n",
    "    shuffle=True,\n",
    "    num_workers=0,\n",
    "    collate_fn=utils.collate_fn\n",
    ")\n",
    "\n",
    "dataloader_val = torch.utils.data.DataLoader(\n",
    "    val_dataset,\n",
    "    batch_size=2,\n",
    "    shuffle=False,\n",
    "    num_workers=0,\n",
    "    collate_fn=utils.collate_fn\n",
    ")"
   ]
  },
  {
   "cell_type": "markdown",
   "metadata": {},
   "source": [
    "## Train model"
   ]
  },
  {
   "cell_type": "code",
   "execution_count": null,
   "metadata": {},
   "outputs": [],
   "source": [
    "def main():\n",
    "    # define the model\n",
    "    num_classes = len(target_labels)\n",
    "    model = get_fastrcnn_model(num_classes)\n",
    "    model.to(device)\n",
    "\n",
    "    # construct an optimizer\n",
    "    params = [p for p in model.parameters() if p.requires_grad]\n",
    "    optimizer = torch.optim.SGD(params, lr=0.005, momentum=0.9, weight_decay=0.0005)\n",
    "\n",
    "    # decay the LR every 3 steps\n",
    "    lr_scheduler = torch.optim.lr_scheduler.StepLR(optimizer, step_size=3, gamma=0.1)\n",
    "\n",
    "    # start train\n",
    "    num_epochs = 10\n",
    "\n",
    "    for epoch in range(num_epochs):\n",
    "\n",
    "        print(f'EPOCH {epoch}:')\n",
    "        train_one_epoch(model, optimizer, dataloader_train, device, epoch, print_freq=10)\n",
    "        lr_scheduler.step()\n",
    "        evaluate(model, dataloader_val, device=device)\n",
    "        \n",
    "#         model.train()\n",
    "#         for images, targets in dataloader_train:\n",
    "#             images = list(image.to(device) for image in images)\n",
    "#             targets = [{k: v.to(device) for k, v in t.items()} for t in targets]\n",
    "\n",
    "#             loss_dict = model(images, targets)\n",
    "#             break"
   ]
  },
  {
   "cell_type": "code",
   "execution_count": null,
   "metadata": {},
   "outputs": [],
   "source": [
    "main()"
   ]
  },
  {
   "cell_type": "markdown",
   "metadata": {},
   "source": [
    "# Fix the boxes area problem"
   ]
  }
 ],
 "metadata": {
  "kernelspec": {
   "display_name": "torch",
   "language": "python",
   "name": "torch"
  },
  "language_info": {
   "codemirror_mode": {
    "name": "ipython",
    "version": 3
   },
   "file_extension": ".py",
   "mimetype": "text/x-python",
   "name": "python",
   "nbconvert_exporter": "python",
   "pygments_lexer": "ipython3",
   "version": "3.8.5"
  }
 },
 "nbformat": 4,
 "nbformat_minor": 4
}
