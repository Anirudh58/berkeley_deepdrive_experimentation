{
 "cells": [
  {
   "cell_type": "code",
   "execution_count": null,
   "metadata": {},
   "outputs": [],
   "source": [
    "# basic\n",
    "import math\n",
    "import os\n",
    "import pickle\n",
    "from PIL import Image\n",
    "import random\n",
    "import time\n",
    "\n",
    "# data\n",
    "import numpy as np\n",
    "import pandas as pd\n",
    "\n",
    "# plot\n",
    "import matplotlib.pyplot as plt\n",
    "import matplotlib.patches as patches\n",
    "\n",
    "# torch\n",
    "import torch\n",
    "import torchvision\n",
    "from torchvision import transforms\n",
    "from torchvision.models.detection.faster_rcnn import FastRCNNPredictor\n",
    "\n",
    "# vision reference. taken from https://github.com/pytorch/vision/tree/master/references/detection\n",
    "from engine import train_one_epoch, evaluate\n",
    "import utils\n",
    "\n",
    "from dataset import BDDDataset"
   ]
  },
  {
   "cell_type": "markdown",
   "metadata": {},
   "source": [
    "## Check GPU"
   ]
  },
  {
   "cell_type": "code",
   "execution_count": null,
   "metadata": {},
   "outputs": [],
   "source": [
    "device = torch.device('cuda:0' if torch.cuda.is_available() else 'cpu')\n",
    "print(device)"
   ]
  },
  {
   "cell_type": "markdown",
   "metadata": {},
   "source": [
    "## Config vars"
   ]
  },
  {
   "cell_type": "code",
   "execution_count": null,
   "metadata": {},
   "outputs": [],
   "source": [
    "root = '.'\n",
    "\n",
    "dataset_path = os.path.join(root, 'dataset')\n",
    "train_dataset_path = os.path.join(dataset_path, 'train')\n",
    "val_dataset_path = os.path.join(dataset_path, 'val')\n",
    "model_store_path = os.path.join(root, 'models')\n",
    "\n",
    "# 10% used for val and 90% for train\n",
    "val_split_ratio = 0.1\n",
    "\n",
    "target_labels = ['car', 'traffic sign', 'pedestrian']\n",
    "#target_labels = ['car']\n",
    "\n",
    "# create a map for label->id\n",
    "label_id_map = {}\n",
    "id_label_map = {}\n",
    "id_color_map = {}\n",
    "colors = ['r', 'b', 'g']\n",
    "for i in range(1, len(target_labels)+1):\n",
    "    label_id_map[target_labels[i-1]] = i\n",
    "    id_label_map[i] = target_labels[i-1]\n",
    "    color = colors[i-1]\n",
    "    id_color_map[i] = color\n",
    "    \n",
    "# bacbone model\n",
    "#backbone_model = 'fasterrcnn_resnet50_fpn'\n",
    "backbone_model = 'fasterrcnn_mobilenet_v3_large_fpn'\n",
    "\n",
    "# training method. Set to false for manual training\n",
    "use_coco_eval = True"
   ]
  },
  {
   "cell_type": "markdown",
   "metadata": {},
   "source": [
    "## Utility functions"
   ]
  },
  {
   "cell_type": "code",
   "execution_count": null,
   "metadata": {},
   "outputs": [],
   "source": [
    "def plot_image_with_boxes(img, target):\n",
    "    \n",
    "    if torch.is_tensor(target['boxes']):\n",
    "        target['boxes'] = target['boxes'].to('cpu').detach().numpy().tolist()\n",
    "    # Create figure and axes\n",
    "    fig, ax = plt.subplots(1)\n",
    "\n",
    "    # Display the image\n",
    "    ax.imshow(img.permute(1, 2, 0))\n",
    "\n",
    "    # draw each box\n",
    "    for i in range(len(target['boxes'])):\n",
    "        if int(target['labels'][i]) in id_label_map:\n",
    "            bottom_left = (target['boxes'][i][0], target['boxes'][i][1])\n",
    "            width = target['boxes'][i][2] - target['boxes'][i][0]\n",
    "            height = target['boxes'][i][3] - target['boxes'][i][1]\n",
    "\n",
    "            label = int(target['labels'][i])\n",
    "\n",
    "            # Create a Rectangle patch\n",
    "            rect = patches.Rectangle(bottom_left, width, height, linewidth=1,\n",
    "                                     edgecolor=id_color_map[label], facecolor=\"none\")\n",
    "\n",
    "            # Add the patch to the Axes\n",
    "            ax.add_patch(rect)\n",
    "    plt.show()"
   ]
  },
  {
   "cell_type": "code",
   "execution_count": null,
   "metadata": {},
   "outputs": [],
   "source": [
    "def get_transform(train):\n",
    "    \n",
    "    transform = transforms.Compose([\n",
    "        transforms.ToTensor(),\n",
    "    ])\n",
    "    \n",
    "    return transform"
   ]
  },
  {
   "cell_type": "code",
   "execution_count": null,
   "metadata": {},
   "outputs": [],
   "source": [
    "def get_fastrcnn_model(num_classes):\n",
    "\n",
    "    # load the pretrained model\n",
    "    if backbone_model == 'fasterrcnn_resnet50_fpn':\n",
    "        model = torchvision.models.detection.fasterrcnn_resnet50_fpn(pretrained=True)\n",
    "    elif backbone_model == 'fasterrcnn_mobilenet_v3_large_fpn':\n",
    "        model = torchvision.models.detection.fasterrcnn_mobilenet_v3_large_fpn(pretrained=True)\n",
    "\n",
    "    # number of input features for the classifier\n",
    "    in_features = model.roi_heads.box_predictor.cls_score.in_features\n",
    "\n",
    "    # replace with pretrained head with a new one\n",
    "    model.roi_heads.box_predictor = FastRCNNPredictor(in_features, num_classes)\n",
    "    \n",
    "    return model"
   ]
  },
  {
   "cell_type": "markdown",
   "metadata": {},
   "source": [
    "## Testing the dataset"
   ]
  },
  {
   "cell_type": "code",
   "execution_count": null,
   "metadata": {},
   "outputs": [],
   "source": [
    "random_idx = 0\n",
    "dataset = BDDDataset(root, transforms=get_transform(train=True))\n",
    "img, target = dataset[random_idx]\n",
    "print(f'img shape: {img.shape}')\n",
    "print(f'target: {target}')\n",
    "print(f'dataset length: {len(dataset)}')\n",
    "plot_image_with_boxes(img, target)"
   ]
  },
  {
   "cell_type": "markdown",
   "metadata": {},
   "source": [
    "## Instantiate the train and val dataloaders"
   ]
  },
  {
   "cell_type": "code",
   "execution_count": null,
   "metadata": {},
   "outputs": [],
   "source": [
    "# later see if you can have train-specific transforms\n",
    "train_dataset = BDDDataset(root, transforms=get_transform(train=True))\n",
    "val_dataset = BDDDataset(root, transforms=get_transform(train=True))\n",
    "\n",
    "# split dataset in train and val set\n",
    "train_dataset_len = len(train_dataset)\n",
    "indices = torch.randperm(train_dataset_len).tolist()\n",
    "val_split_index = int(val_split_ratio * train_dataset_len)\n",
    "train_dataset = torch.utils.data.Subset(train_dataset, indices[:-1 * val_split_index])\n",
    "val_dataset = torch.utils.data.Subset(val_dataset, indices[-1 * val_split_index:])\n",
    "\n",
    "# define the dataloaders\n",
    "dataloader_train = torch.utils.data.DataLoader(\n",
    "    train_dataset,\n",
    "    batch_size=2,\n",
    "    shuffle=True,\n",
    "    num_workers=1,\n",
    "    collate_fn=utils.collate_fn\n",
    ")\n",
    "\n",
    "dataloader_val = torch.utils.data.DataLoader(\n",
    "    val_dataset,\n",
    "    batch_size=2,\n",
    "    shuffle=False,\n",
    "    num_workers=1,\n",
    "    collate_fn=utils.collate_fn\n",
    ")\n",
    "\n",
    "print(f'train: 0 to {train_dataset_len - val_split_index}\\nval: {train_dataset_len - val_split_index} to {train_dataset_len}\\n')\n",
    "print(f'train set length : {len(train_dataset)}')\n",
    "print(f'val set length : {len(val_dataset)}')"
   ]
  },
  {
   "cell_type": "code",
   "execution_count": null,
   "metadata": {},
   "outputs": [],
   "source": [
    "# num_classes = len(target_labels)\n",
    "# model = get_fastrcnn_model(num_classes)\n",
    "# images, targets = next(iter(dataloader_train))\n",
    "# images = list(image for image in images)\n",
    "# targets = [{k: v for k, v in t.items()} for t in targets]\n",
    "# output = model(images, targets)\n",
    "# print(f\"output: {output}\")"
   ]
  },
  {
   "cell_type": "markdown",
   "metadata": {},
   "source": [
    "## Model config"
   ]
  },
  {
   "cell_type": "code",
   "execution_count": null,
   "metadata": {},
   "outputs": [],
   "source": [
    "# define the model\n",
    "num_classes = len(target_labels)+1\n",
    "model = get_fastrcnn_model(num_classes)\n",
    "model.to(device)\n",
    "\n",
    "# construct an optimizer\n",
    "params = [p for p in model.parameters() if p.requires_grad]\n",
    "optimizer = torch.optim.SGD(params, lr=0.005, momentum=0.9, weight_decay=0.0005)\n",
    "\n",
    "# decay the LR every 3 steps\n",
    "lr_scheduler = torch.optim.lr_scheduler.StepLR(optimizer, step_size=3, gamma=0.1)\n",
    "\n",
    "# start train\n",
    "num_epochs = 10\n",
    "print_freq = 10"
   ]
  },
  {
   "cell_type": "markdown",
   "metadata": {},
   "source": [
    "## Train model"
   ]
  },
  {
   "cell_type": "code",
   "execution_count": null,
   "metadata": {
    "tags": []
   },
   "outputs": [],
   "source": [
    "for epoch in range(num_epochs):\n",
    "    \n",
    "    if use_coco_eval:\n",
    "        train_one_epoch(model, optimizer, dataloader_train, device, epoch, print_freq=10)\n",
    "        lr_scheduler.step()\n",
    "        evaluate(model, dataloader_val, device=device)\n",
    "    \n",
    "    else:\n",
    "        print(f\"Epoch: {epoch}\")\n",
    "\n",
    "        # train\n",
    "        model.train()\n",
    "        i = 0\n",
    "        for images, targets in dataloader_train:\n",
    "            images = list(image.to(device) for image in images)\n",
    "            targets = [{k: v.to(device) for k, v in t.items()} for t in targets]\n",
    "\n",
    "            loss_dict = model(images, targets)\n",
    "            losses = sum(loss for loss in loss_dict.values())\n",
    "\n",
    "            # reduce losses over all GPUs for logging purposes\n",
    "            loss_dict_reduced = utils.reduce_dict(loss_dict)\n",
    "            losses_reduced = sum(loss for loss in loss_dict_reduced.values())\n",
    "\n",
    "            loss_value = losses_reduced.item()\n",
    "\n",
    "            if not math.isfinite(loss_value):\n",
    "                print(\"Loss is {}, stopping training\".format(loss_value))\n",
    "                print(loss_dict_reduced)\n",
    "                sys.exit(1)\n",
    "\n",
    "            if i % print_freq == 0:\n",
    "                print(f\"Loss: {loss_value}\")\n",
    "\n",
    "            optimizer.zero_grad()\n",
    "            losses.backward()\n",
    "            optimizer.step()\n",
    "\n",
    "            lr_scheduler.step()\n",
    "\n",
    "            i += 1\n",
    "\n",
    "        # take an LR step\n",
    "        lr_scheduler.step()\n",
    "\n",
    "        # evaluate\n",
    "        model.eval()\n",
    "        with torch.no_grad():\n",
    "            for images, targets in dataloader_val:\n",
    "                images = list(img.to(device) for img in images)\n",
    "\n",
    "                model_time = time.time()\n",
    "                outputs = model(images)\n",
    "\n",
    "                outputs = [{k: v.to(device) for k, v in t.items()} for t in outputs]\n",
    "                model_time = time.time() - model_time\n",
    "\n",
    "                print(f\"Evaluation time: {model_time}\")\n",
    "\n",
    "                res = {target[\"image_id\"].item(): output for target, output in zip(targets, outputs)}"
   ]
  },
  {
   "cell_type": "markdown",
   "metadata": {},
   "source": [
    "## Testing with some sample images from the val dataloader"
   ]
  },
  {
   "cell_type": "code",
   "execution_count": null,
   "metadata": {
    "tags": []
   },
   "outputs": [],
   "source": [
    "sample_count = 5\n",
    "model.eval()\n",
    "\n",
    "with torch.no_grad():\n",
    "    for i,data in enumerate(dataloader_val):\n",
    "        images, targets = data\n",
    "        images = list(image.to(device) for image in images)\n",
    "        targets = [{k: v for k, v in t.items()} for t in targets]\n",
    "        output = model(images)\n",
    "        #print(f\"target: {targets}\")\n",
    "        #print(f\"output: {output}\")\n",
    "        plot_image_with_boxes(images[1].to('cpu'), output[1])\n",
    "        if i == sample_count-1:\n",
    "            break"
   ]
  },
  {
   "cell_type": "markdown",
   "metadata": {},
   "source": [
    "## Save the model for use in the next notebook"
   ]
  },
  {
   "cell_type": "code",
   "execution_count": null,
   "metadata": {},
   "outputs": [],
   "source": [
    "model_save_path = os.path.join(model_store_path, 'bdd_' + backbone_model + '_' + str(int(time.time())) + '.pt')\n",
    "torch.save(model.state_dict(), model_save_path)"
   ]
  },
  {
   "cell_type": "code",
   "execution_count": null,
   "metadata": {},
   "outputs": [],
   "source": []
  },
  {
   "cell_type": "code",
   "execution_count": null,
   "metadata": {},
   "outputs": [],
   "source": []
  },
  {
   "cell_type": "code",
   "execution_count": null,
   "metadata": {},
   "outputs": [],
   "source": []
  },
  {
   "cell_type": "code",
   "execution_count": null,
   "metadata": {},
   "outputs": [],
   "source": []
  }
 ],
 "metadata": {
  "kernelspec": {
   "display_name": "torch",
   "language": "python",
   "name": "torch"
  },
  "language_info": {
   "codemirror_mode": {
    "name": "ipython",
    "version": 3
   },
   "file_extension": ".py",
   "mimetype": "text/x-python",
   "name": "python",
   "nbconvert_exporter": "python",
   "pygments_lexer": "ipython3",
   "version": "3.8.0"
  }
 },
 "nbformat": 4,
 "nbformat_minor": 4
}
