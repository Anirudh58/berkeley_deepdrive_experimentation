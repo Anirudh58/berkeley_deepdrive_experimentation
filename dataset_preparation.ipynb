{
 "cells": [
  {
   "cell_type": "markdown",
   "metadata": {},
   "source": [
    "# Dataset preparation from Berkeley DeepDrive"
   ]
  },
  {
   "cell_type": "code",
   "execution_count": null,
   "metadata": {},
   "outputs": [],
   "source": [
    "# basic\n",
    "import os\n",
    "import pickle\n",
    "import shutil\n",
    "import sys\n",
    "from tqdm import tqdm\n",
    "\n",
    "# data\n",
    "from collections import Counter\n",
    "import json\n",
    "import pandas as pd"
   ]
  },
  {
   "cell_type": "markdown",
   "metadata": {},
   "source": [
    "## Config variables"
   ]
  },
  {
   "cell_type": "code",
   "execution_count": null,
   "metadata": {},
   "outputs": [],
   "source": [
    "root = '.'\n",
    "\n",
    "train_images_path = os.path.join(root, 'bdd100k_images', 'bdd100k', 'images', '100k', 'train')\n",
    "val_images_path = os.path.join(root, 'bdd100k_images', 'bdd100k', 'images', '100k', 'val')\n",
    "test_images_path = os.path.join(root, 'bdd100k_images', 'bdd100k', 'images', '100k', 'test')\n",
    "\n",
    "dataset_path = os.path.join(root, 'dataset')\n",
    "train_dataset_path = os.path.join(root, 'dataset', 'train')\n",
    "val_dataset_path = os.path.join(root, 'dataset', 'val')\n",
    "test_dataset_path = os.path.join(root, 'dataset', 'test')\n",
    "\n",
    "target_attribute_weathers = ['clear']\n",
    "target_attribute_timeofdays = ['daytime']"
   ]
  },
  {
   "cell_type": "markdown",
   "metadata": {},
   "source": [
    "## Load the train and val set"
   ]
  },
  {
   "cell_type": "code",
   "execution_count": null,
   "metadata": {},
   "outputs": [],
   "source": [
    "with open(os.path.join(root, 'bdd100k_det_20_labels_trainval', 'bdd100k', 'labels', 'det_20', 'det_train.json'), 'rb') as train_file:\n",
    "    train_set_all = json.load(train_file)\n",
    "    \n",
    "# with open(os.path.join(root, 'bdd100k_det_20_labels_trainval', 'bdd100k', 'labels', 'det_20', 'det_val.json'), 'rb') as val_file:\n",
    "#     val_set_all = json.load(val_file)"
   ]
  },
  {
   "cell_type": "markdown",
   "metadata": {},
   "source": [
    "## Analyzing weathers and timeofday attributes"
   ]
  },
  {
   "cell_type": "code",
   "execution_count": null,
   "metadata": {},
   "outputs": [],
   "source": [
    "weathers = []\n",
    "timeofdays = []\n",
    "for image in train_set_all:\n",
    "    if 'attributes' in image:\n",
    "        weathers.append(image['attributes']['weather'])\n",
    "        timeofdays.append(image['attributes']['timeofday'])\n",
    "print(Counter(weathers))\n",
    "print(Counter(timeofdays))"
   ]
  },
  {
   "cell_type": "markdown",
   "metadata": {},
   "source": [
    "## Defining our target labels"
   ]
  },
  {
   "cell_type": "code",
   "execution_count": null,
   "metadata": {},
   "outputs": [],
   "source": [
    "all_labels = []\n",
    "\n",
    "for image in train_set_all:\n",
    "    if 'labels' in image:\n",
    "        for label in image['labels']:\n",
    "            all_labels.append(label['category'])\n",
    "            \n",
    "label_distribution = Counter(all_labels)\n",
    "print(f'Label distribution: {label_distribution}')\n",
    "\n",
    "target_labels = ['car', 'traffic sign', 'pedestrian']"
   ]
  },
  {
   "cell_type": "markdown",
   "metadata": {},
   "source": [
    "## Populate train set"
   ]
  },
  {
   "cell_type": "code",
   "execution_count": null,
   "metadata": {},
   "outputs": [],
   "source": [
    "label_train_instances = [0, 0, 0]\n",
    "threshold_instances = 300\n",
    "train_set = []\n",
    "\n",
    "for image in train_set_all:\n",
    "    # making sure this image actually exists and has labels\n",
    "    if os.path.exists(os.path.join(train_images_path, image['name'])) and 'labels' in image:\n",
    "        if 'attributes' in image:\n",
    "            # filter images with our required weather and timeofday attributes\n",
    "            if image['attributes']['weather'] in target_attribute_weathers and image['attributes']['timeofday'] in target_attribute_timeofdays:\n",
    "                \n",
    "                # making sure there is atleast 1 instance that is not truncated or occluded in that image\n",
    "                atleast_one=False\n",
    "                for label in image['labels']:\n",
    "                    if label['category'] in target_labels:\n",
    "                        if label['attributes']['occluded'] and label['attributes']['truncated']:\n",
    "                            atleast_one = True\n",
    "                            break\n",
    "                \n",
    "                if atleast_one:\n",
    "                    target_labels_presence = [True if target_label in [label['category'] for label in image['labels']] else False for target_label in target_labels]\n",
    "                    if any(target_labels_presence):\n",
    "                        if target_labels_presence[0]:\n",
    "                            label_train_instances[0] += 1\n",
    "                        if target_labels_presence[1]:\n",
    "                            label_train_instances[1] += 1\n",
    "                        if target_labels_presence[2]:\n",
    "                            label_train_instances[2] += 1\n",
    "\n",
    "                        train_set.append(image)\n",
    "    \n",
    "    # if we have atleast 100 images for each label, break.\n",
    "    if all(True if count > threshold_instances else False for count in label_train_instances):\n",
    "        break\n",
    "        \n",
    "print(f'train set size: {len(train_set)}')"
   ]
  },
  {
   "cell_type": "markdown",
   "metadata": {},
   "source": [
    "## Populate val set"
   ]
  },
  {
   "cell_type": "code",
   "execution_count": null,
   "metadata": {},
   "outputs": [],
   "source": [
    "# label_val_instances = [0, 0, 0]\n",
    "# threshold_instances = 40\n",
    "# val_set = []\n",
    "\n",
    "# for image in val_set_all:\n",
    "#     # making sure this image actually exists\n",
    "#     if os.path.exists(os.path.join(val_images_path, image['name'])) and 'labels' in image:\n",
    "#         if 'attributes' in image:\n",
    "#             # filter images with our required weather and timeofday attributes\n",
    "#             if image['attributes']['weather'] in target_attribute_weathers and image['attributes']['timeofday'] in target_attribute_timeofdays:\n",
    "#                 target_labels_presence = [True if target_label in [label['category'] for label in image['labels']] else False for target_label in target_labels]\n",
    "#                 if any(target_labels_presence):\n",
    "#                     if target_labels_presence[0]:\n",
    "#                         label_val_instances[0] += 1\n",
    "#                     if target_labels_presence[1]:\n",
    "#                         label_val_instances[1] += 1\n",
    "#                     if target_labels_presence[2]:\n",
    "#                         label_val_instances[2] += 1\n",
    "#                     val_set.append(image)\n",
    "    \n",
    "#     # if we have atleast 20 images for each label, break.\n",
    "#     if all(True if count > threshold_instances else False for count in label_val_instances):\n",
    "#         break\n",
    "        \n",
    "# print(f'val set size: {len(val_set)}')"
   ]
  },
  {
   "cell_type": "markdown",
   "metadata": {},
   "source": [
    "## Instance distribution in train and val set"
   ]
  },
  {
   "cell_type": "code",
   "execution_count": null,
   "metadata": {},
   "outputs": [],
   "source": [
    "subset_labels = []\n",
    "for image in train_set:\n",
    "    if 'labels' in image:\n",
    "        for label in image['labels']:\n",
    "            subset_labels.append(label['category'])\n",
    "            \n",
    "label_distribution = Counter(subset_labels)\n",
    "print(f\"Train set label instance distribution:\")\n",
    "for target_label in target_labels:\n",
    "    print(f\"{target_label} : {label_distribution[target_label]}\")\n",
    "\n",
    "# subset_labels = []\n",
    "# for image in val_set:\n",
    "#     if 'labels' in image:\n",
    "#         for label in image['labels']:\n",
    "#             subset_labels.append(label['category'])\n",
    "            \n",
    "# label_distribution = Counter(subset_labels)\n",
    "# print(f\"Val set label instance distribution:\")\n",
    "# for target_label in target_labels:\n",
    "#     print(f\"{target_label} : {label_distribution[target_label]}\")"
   ]
  },
  {
   "cell_type": "markdown",
   "metadata": {},
   "source": [
    "## Copy the shortlisted images into our dataset folder, for ease"
   ]
  },
  {
   "cell_type": "code",
   "execution_count": null,
   "metadata": {},
   "outputs": [],
   "source": [
    "destination = os.path.join(dataset_path, 'train')\n",
    "for image in train_set:\n",
    "    source = os.path.join(train_images_path, image['name'])\n",
    "    dest = shutil.copy(source, destination)\n",
    "    \n",
    "#print(os.listdir(destination))\n",
    "print(\"train images folder size:\", len(os.listdir(destination)))\n",
    "    \n",
    "# destination = os.path.join(dataset_path, 'val')\n",
    "# for image in val_set:\n",
    "#     source = os.path.join(val_images_path, image['name'])\n",
    "#     dest = shutil.copy(source, destination)\n",
    "    \n",
    "# #print(os.listdir(destination))\n",
    "# print(\"val images folder size:\", len(os.listdir(destination)))"
   ]
  },
  {
   "cell_type": "markdown",
   "metadata": {},
   "source": [
    "## Dump the train and val sets to file"
   ]
  },
  {
   "cell_type": "code",
   "execution_count": null,
   "metadata": {},
   "outputs": [],
   "source": [
    "train_set_hash = {}\n",
    "val_set_hash = {}\n",
    "\n",
    "for image in train_set:\n",
    "    train_set_hash[image['name']] = image\n",
    "    \n",
    "with open('train_set.pkl', 'wb') as f:\n",
    "    pickle.dump(train_set_hash, f)\n",
    "    \n",
    "# for image in val_set:\n",
    "#     val_set_hash[image['name']] = image\n",
    "    \n",
    "# with open('val_set.pkl', 'wb') as f:\n",
    "#     pickle.dump(val_set_hash, f)"
   ]
  },
  {
   "cell_type": "code",
   "execution_count": null,
   "metadata": {},
   "outputs": [],
   "source": [
    "# with open('train_set.pkl', 'rb') as f:\n",
    "#     train_set_loaded = pickle.load(f)\n",
    "    \n",
    "# with open('val_set.pkl', 'rb') as f:\n",
    "#     val_set_loaded = pickle.load(f)"
   ]
  },
  {
   "cell_type": "code",
   "execution_count": null,
   "metadata": {},
   "outputs": [],
   "source": [
    "for image in train_set:\n",
    "    print(img.size)"
   ]
  }
 ],
 "metadata": {
  "kernelspec": {
   "display_name": "torch",
   "language": "python",
   "name": "torch"
  },
  "language_info": {
   "codemirror_mode": {
    "name": "ipython",
    "version": 3
   },
   "file_extension": ".py",
   "mimetype": "text/x-python",
   "name": "python",
   "nbconvert_exporter": "python",
   "pygments_lexer": "ipython3",
   "version": "3.8.5"
  }
 },
 "nbformat": 4,
 "nbformat_minor": 4
}
